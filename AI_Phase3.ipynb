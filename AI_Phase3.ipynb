{
 "cells": [
  {
   "cell_type": "markdown",
   "id": "interpreted-partnership",
   "metadata": {
    "papermill": {
     "duration": 0.043255,
     "end_time": "2021-04-10T20:10:58.399963",
     "exception": false,
     "start_time": "2021-04-10T20:10:58.356708",
     "status": "completed"
    },
    "tags": []
   },
   "source": [
    "<div style=\"padding: 20px; box-shadow: rgba(0, 0, 0, 0.25) 0px 0.0625em 0.0625em, rgba(0, 0, 0, 0.25) 0px 0.125em 0.5em, rgba(255, 255, 255, 0.1) 0px 0px 0px 1px inset;\">\n",
    "<h1 style=\"text-align:center\">   \n",
    "      <font color =  SlateGrey >\n",
    "                Build an NLP model to differentiate real news from fake news\n",
    "        </font>    \n",
    "</h1>\n",
    "</div>\n",
    "<br>\n",
    "<div style=\"padding: 20px; box-shadow: rgba(0, 0, 0, 0.05) 0px 0px 0px 1px, rgb(209, 213, 219) 0px 0px 0px 1px inset;\">\n",
    "<h3> <font color= SlateGrey>Phase 3: Development Part 1 .</font></h3>\n",
    "<p>In this part you will begin building your project by loading and preprocessing the dataset. \n",
    "Begin building the fake news detection model by loading and preprocessing the dataset. \n",
    "Load the fake news dataset and preprocess the textual data. \n",
    "    \n",
    "    Dataset Link: https://www.kaggle.com/datasets/clmentbisaillon/fake-and-real-news-dataset \n",
    "</p>\n",
    "</div>\n",
    "<br>"
   ]
  },
  {
   "cell_type": "markdown",
   "id": "assumed-practice",
   "metadata": {
    "papermill": {
     "duration": 0.040447,
     "end_time": "2021-04-10T20:10:58.481186",
     "exception": false,
     "start_time": "2021-04-10T20:10:58.440739",
     "status": "completed"
    },
    "tags": []
   },
   "source": [
    "<a id = 1></a>\n",
    "<h1><font color = SlateGrey>Importing required libraries</font></h1>\n",
    "<hr style=\"width:100%;height:1.2px;border-width:0;background-color:silver\">"
   ]
  },
  {
   "cell_type": "code",
   "execution_count": 3,
   "id": "06ca2b80",
   "metadata": {},
   "outputs": [],
   "source": [
    "import warnings\n",
    "warnings.filterwarnings('ignore')"
   ]
  },
  {
   "cell_type": "code",
   "execution_count": 4,
   "id": "american-account",
   "metadata": {
    "execution": {
     "iopub.execute_input": "2021-04-10T20:10:58.570728Z",
     "iopub.status.busy": "2021-04-10T20:10:58.569997Z",
     "iopub.status.idle": "2021-04-10T20:11:06.135284Z",
     "shell.execute_reply": "2021-04-10T20:11:06.134243Z"
    },
    "papermill": {
     "duration": 7.613904,
     "end_time": "2021-04-10T20:11:06.135524",
     "exception": false,
     "start_time": "2021-04-10T20:10:58.521620",
     "status": "completed"
    },
    "tags": []
   },
   "outputs": [
    {
     "name": "stderr",
     "output_type": "stream",
     "text": [
      "2023-10-15 16:27:23.172675: I tensorflow/core/util/port.cc:111] oneDNN custom operations are on. You may see slightly different numerical results due to floating-point round-off errors from different computation orders. To turn them off, set the environment variable `TF_ENABLE_ONEDNN_OPTS=0`.\n",
      "2023-10-15 16:27:23.380239: E tensorflow/compiler/xla/stream_executor/cuda/cuda_dnn.cc:9342] Unable to register cuDNN factory: Attempting to register factory for plugin cuDNN when one has already been registered\n",
      "2023-10-15 16:27:23.380269: E tensorflow/compiler/xla/stream_executor/cuda/cuda_fft.cc:609] Unable to register cuFFT factory: Attempting to register factory for plugin cuFFT when one has already been registered\n",
      "2023-10-15 16:27:23.380945: E tensorflow/compiler/xla/stream_executor/cuda/cuda_blas.cc:1518] Unable to register cuBLAS factory: Attempting to register factory for plugin cuBLAS when one has already been registered\n",
      "2023-10-15 16:27:23.464522: I tensorflow/core/platform/cpu_feature_guard.cc:182] This TensorFlow binary is optimized to use available CPU instructions in performance-critical operations.\n",
      "To enable the following instructions: AVX2 AVX512F AVX512_VNNI FMA, in other operations, rebuild TensorFlow with the appropriate compiler flags.\n",
      "2023-10-15 16:27:24.306371: W tensorflow/compiler/tf2tensorrt/utils/py_utils.cc:38] TF-TRT Warning: Could not find TensorRT\n"
     ]
    },
    {
     "name": "stdout",
     "output_type": "stream",
     "text": [
      "dataset/Fake.csv\n",
      "dataset/archive(1).zip\n",
      "dataset/True.csv\n"
     ]
    }
   ],
   "source": [
    "import numpy as np\n",
    "import pandas as pd\n",
    "import matplotlib.pyplot as plt\n",
    "import seaborn as sns\n",
    "\n",
    "import nltk\n",
    "import re\n",
    "import string \n",
    "\n",
    "from sklearn.model_selection import train_test_split\n",
    "from sklearn.metrics import classification_report\n",
    "\n",
    "import keras\n",
    "from keras.preprocessing import text,sequence\n",
    "from keras.models import Sequential\n",
    "from keras.layers import Dense,Embedding,LSTM,Dropout\n",
    "\n",
    "import os\n",
    "for dirname, _, filenames in os.walk('dataset/'):\n",
    "    for filename in filenames:\n",
    "        print(os.path.join(dirname, filename))\n",
    "\n"
   ]
  },
  {
   "cell_type": "markdown",
   "id": "accessible-discussion",
   "metadata": {
    "papermill": {
     "duration": 0.040919,
     "end_time": "2021-04-10T20:11:06.218938",
     "exception": false,
     "start_time": "2021-04-10T20:11:06.178019",
     "status": "completed"
    },
    "tags": []
   },
   "source": [
    "<a id = 2></a>\n",
    "<h1><font color = SlateGrey>Loading Data</font></h1>\n",
    "<hr style=\"width:100%;height:1.2px;border-width:0;background-color:silver\">"
   ]
  },
  {
   "cell_type": "code",
   "execution_count": 5,
   "id": "satisfactory-copyright",
   "metadata": {
    "execution": {
     "iopub.execute_input": "2021-04-10T20:11:06.312248Z",
     "iopub.status.busy": "2021-04-10T20:11:06.311534Z",
     "iopub.status.idle": "2021-04-10T20:11:09.251181Z",
     "shell.execute_reply": "2021-04-10T20:11:09.250513Z"
    },
    "papermill": {
     "duration": 2.991388,
     "end_time": "2021-04-10T20:11:09.251340",
     "exception": false,
     "start_time": "2021-04-10T20:11:06.259952",
     "status": "completed"
    },
    "tags": []
   },
   "outputs": [],
   "source": [
    "real_data = pd.read_csv('dataset/True.csv')\n",
    "fake_data = pd.read_csv('dataset/Fake.csv')"
   ]
  },
  {
   "cell_type": "code",
   "execution_count": 6,
   "id": "perceived-driver",
   "metadata": {
    "execution": {
     "iopub.execute_input": "2021-04-10T20:11:09.346796Z",
     "iopub.status.busy": "2021-04-10T20:11:09.346005Z",
     "iopub.status.idle": "2021-04-10T20:11:09.370424Z",
     "shell.execute_reply": "2021-04-10T20:11:09.369890Z"
    },
    "papermill": {
     "duration": 0.077707,
     "end_time": "2021-04-10T20:11:09.370626",
     "exception": false,
     "start_time": "2021-04-10T20:11:09.292919",
     "status": "completed"
    },
    "tags": []
   },
   "outputs": [
    {
     "data": {
      "text/html": [
       "<div>\n",
       "<style scoped>\n",
       "    .dataframe tbody tr th:only-of-type {\n",
       "        vertical-align: middle;\n",
       "    }\n",
       "\n",
       "    .dataframe tbody tr th {\n",
       "        vertical-align: top;\n",
       "    }\n",
       "\n",
       "    .dataframe thead th {\n",
       "        text-align: right;\n",
       "    }\n",
       "</style>\n",
       "<table border=\"1\" class=\"dataframe\">\n",
       "  <thead>\n",
       "    <tr style=\"text-align: right;\">\n",
       "      <th></th>\n",
       "      <th>title</th>\n",
       "      <th>text</th>\n",
       "      <th>subject</th>\n",
       "      <th>date</th>\n",
       "    </tr>\n",
       "  </thead>\n",
       "  <tbody>\n",
       "    <tr>\n",
       "      <th>0</th>\n",
       "      <td>As U.S. budget fight looms, Republicans flip t...</td>\n",
       "      <td>WASHINGTON (Reuters) - The head of a conservat...</td>\n",
       "      <td>politicsNews</td>\n",
       "      <td>December 31, 2017</td>\n",
       "    </tr>\n",
       "    <tr>\n",
       "      <th>1</th>\n",
       "      <td>U.S. military to accept transgender recruits o...</td>\n",
       "      <td>WASHINGTON (Reuters) - Transgender people will...</td>\n",
       "      <td>politicsNews</td>\n",
       "      <td>December 29, 2017</td>\n",
       "    </tr>\n",
       "    <tr>\n",
       "      <th>2</th>\n",
       "      <td>Senior U.S. Republican senator: 'Let Mr. Muell...</td>\n",
       "      <td>WASHINGTON (Reuters) - The special counsel inv...</td>\n",
       "      <td>politicsNews</td>\n",
       "      <td>December 31, 2017</td>\n",
       "    </tr>\n",
       "    <tr>\n",
       "      <th>3</th>\n",
       "      <td>FBI Russia probe helped by Australian diplomat...</td>\n",
       "      <td>WASHINGTON (Reuters) - Trump campaign adviser ...</td>\n",
       "      <td>politicsNews</td>\n",
       "      <td>December 30, 2017</td>\n",
       "    </tr>\n",
       "    <tr>\n",
       "      <th>4</th>\n",
       "      <td>Trump wants Postal Service to charge 'much mor...</td>\n",
       "      <td>SEATTLE/WASHINGTON (Reuters) - President Donal...</td>\n",
       "      <td>politicsNews</td>\n",
       "      <td>December 29, 2017</td>\n",
       "    </tr>\n",
       "  </tbody>\n",
       "</table>\n",
       "</div>"
      ],
      "text/plain": [
       "                                               title  \\\n",
       "0  As U.S. budget fight looms, Republicans flip t...   \n",
       "1  U.S. military to accept transgender recruits o...   \n",
       "2  Senior U.S. Republican senator: 'Let Mr. Muell...   \n",
       "3  FBI Russia probe helped by Australian diplomat...   \n",
       "4  Trump wants Postal Service to charge 'much mor...   \n",
       "\n",
       "                                                text       subject  \\\n",
       "0  WASHINGTON (Reuters) - The head of a conservat...  politicsNews   \n",
       "1  WASHINGTON (Reuters) - Transgender people will...  politicsNews   \n",
       "2  WASHINGTON (Reuters) - The special counsel inv...  politicsNews   \n",
       "3  WASHINGTON (Reuters) - Trump campaign adviser ...  politicsNews   \n",
       "4  SEATTLE/WASHINGTON (Reuters) - President Donal...  politicsNews   \n",
       "\n",
       "                 date  \n",
       "0  December 31, 2017   \n",
       "1  December 29, 2017   \n",
       "2  December 31, 2017   \n",
       "3  December 30, 2017   \n",
       "4  December 29, 2017   "
      ]
     },
     "execution_count": 6,
     "metadata": {},
     "output_type": "execute_result"
    }
   ],
   "source": [
    "real_data.head()"
   ]
  },
  {
   "cell_type": "code",
   "execution_count": 7,
   "id": "beginning-seattle",
   "metadata": {
    "execution": {
     "iopub.execute_input": "2021-04-10T20:11:09.469652Z",
     "iopub.status.busy": "2021-04-10T20:11:09.468962Z",
     "iopub.status.idle": "2021-04-10T20:11:09.473813Z",
     "shell.execute_reply": "2021-04-10T20:11:09.473172Z"
    },
    "papermill": {
     "duration": 0.05968,
     "end_time": "2021-04-10T20:11:09.473949",
     "exception": false,
     "start_time": "2021-04-10T20:11:09.414269",
     "status": "completed"
    },
    "tags": []
   },
   "outputs": [
    {
     "data": {
      "text/html": [
       "<div>\n",
       "<style scoped>\n",
       "    .dataframe tbody tr th:only-of-type {\n",
       "        vertical-align: middle;\n",
       "    }\n",
       "\n",
       "    .dataframe tbody tr th {\n",
       "        vertical-align: top;\n",
       "    }\n",
       "\n",
       "    .dataframe thead th {\n",
       "        text-align: right;\n",
       "    }\n",
       "</style>\n",
       "<table border=\"1\" class=\"dataframe\">\n",
       "  <thead>\n",
       "    <tr style=\"text-align: right;\">\n",
       "      <th></th>\n",
       "      <th>title</th>\n",
       "      <th>text</th>\n",
       "      <th>subject</th>\n",
       "      <th>date</th>\n",
       "    </tr>\n",
       "  </thead>\n",
       "  <tbody>\n",
       "    <tr>\n",
       "      <th>0</th>\n",
       "      <td>Donald Trump Sends Out Embarrassing New Year’...</td>\n",
       "      <td>Donald Trump just couldn t wish all Americans ...</td>\n",
       "      <td>News</td>\n",
       "      <td>December 31, 2017</td>\n",
       "    </tr>\n",
       "    <tr>\n",
       "      <th>1</th>\n",
       "      <td>Drunk Bragging Trump Staffer Started Russian ...</td>\n",
       "      <td>House Intelligence Committee Chairman Devin Nu...</td>\n",
       "      <td>News</td>\n",
       "      <td>December 31, 2017</td>\n",
       "    </tr>\n",
       "    <tr>\n",
       "      <th>2</th>\n",
       "      <td>Sheriff David Clarke Becomes An Internet Joke...</td>\n",
       "      <td>On Friday, it was revealed that former Milwauk...</td>\n",
       "      <td>News</td>\n",
       "      <td>December 30, 2017</td>\n",
       "    </tr>\n",
       "    <tr>\n",
       "      <th>3</th>\n",
       "      <td>Trump Is So Obsessed He Even Has Obama’s Name...</td>\n",
       "      <td>On Christmas day, Donald Trump announced that ...</td>\n",
       "      <td>News</td>\n",
       "      <td>December 29, 2017</td>\n",
       "    </tr>\n",
       "    <tr>\n",
       "      <th>4</th>\n",
       "      <td>Pope Francis Just Called Out Donald Trump Dur...</td>\n",
       "      <td>Pope Francis used his annual Christmas Day mes...</td>\n",
       "      <td>News</td>\n",
       "      <td>December 25, 2017</td>\n",
       "    </tr>\n",
       "  </tbody>\n",
       "</table>\n",
       "</div>"
      ],
      "text/plain": [
       "                                               title  \\\n",
       "0   Donald Trump Sends Out Embarrassing New Year’...   \n",
       "1   Drunk Bragging Trump Staffer Started Russian ...   \n",
       "2   Sheriff David Clarke Becomes An Internet Joke...   \n",
       "3   Trump Is So Obsessed He Even Has Obama’s Name...   \n",
       "4   Pope Francis Just Called Out Donald Trump Dur...   \n",
       "\n",
       "                                                text subject  \\\n",
       "0  Donald Trump just couldn t wish all Americans ...    News   \n",
       "1  House Intelligence Committee Chairman Devin Nu...    News   \n",
       "2  On Friday, it was revealed that former Milwauk...    News   \n",
       "3  On Christmas day, Donald Trump announced that ...    News   \n",
       "4  Pope Francis used his annual Christmas Day mes...    News   \n",
       "\n",
       "                date  \n",
       "0  December 31, 2017  \n",
       "1  December 31, 2017  \n",
       "2  December 30, 2017  \n",
       "3  December 29, 2017  \n",
       "4  December 25, 2017  "
      ]
     },
     "execution_count": 7,
     "metadata": {},
     "output_type": "execute_result"
    }
   ],
   "source": [
    "fake_data.head()"
   ]
  },
  {
   "cell_type": "code",
   "execution_count": 8,
   "id": "progressive-paint",
   "metadata": {
    "execution": {
     "iopub.execute_input": "2021-04-10T20:11:09.566899Z",
     "iopub.status.busy": "2021-04-10T20:11:09.566235Z",
     "iopub.status.idle": "2021-04-10T20:11:09.571170Z",
     "shell.execute_reply": "2021-04-10T20:11:09.570646Z"
    },
    "papermill": {
     "duration": 0.054147,
     "end_time": "2021-04-10T20:11:09.571313",
     "exception": false,
     "start_time": "2021-04-10T20:11:09.517166",
     "status": "completed"
    },
    "tags": []
   },
   "outputs": [],
   "source": [
    "#add column \n",
    "real_data['target'] = 1\n",
    "fake_data['target'] = 0 "
   ]
  },
  {
   "cell_type": "code",
   "execution_count": 9,
   "id": "architectural-mathematics",
   "metadata": {
    "execution": {
     "iopub.execute_input": "2021-04-10T20:11:09.669257Z",
     "iopub.status.busy": "2021-04-10T20:11:09.668465Z",
     "iopub.status.idle": "2021-04-10T20:11:09.672267Z",
     "shell.execute_reply": "2021-04-10T20:11:09.672770Z"
    },
    "papermill": {
     "duration": 0.05859,
     "end_time": "2021-04-10T20:11:09.672937",
     "exception": false,
     "start_time": "2021-04-10T20:11:09.614347",
     "status": "completed"
    },
    "tags": []
   },
   "outputs": [
    {
     "data": {
      "text/html": [
       "<div>\n",
       "<style scoped>\n",
       "    .dataframe tbody tr th:only-of-type {\n",
       "        vertical-align: middle;\n",
       "    }\n",
       "\n",
       "    .dataframe tbody tr th {\n",
       "        vertical-align: top;\n",
       "    }\n",
       "\n",
       "    .dataframe thead th {\n",
       "        text-align: right;\n",
       "    }\n",
       "</style>\n",
       "<table border=\"1\" class=\"dataframe\">\n",
       "  <thead>\n",
       "    <tr style=\"text-align: right;\">\n",
       "      <th></th>\n",
       "      <th>title</th>\n",
       "      <th>text</th>\n",
       "      <th>subject</th>\n",
       "      <th>date</th>\n",
       "      <th>target</th>\n",
       "    </tr>\n",
       "  </thead>\n",
       "  <tbody>\n",
       "    <tr>\n",
       "      <th>21412</th>\n",
       "      <td>'Fully committed' NATO backs new U.S. approach...</td>\n",
       "      <td>BRUSSELS (Reuters) - NATO allies on Tuesday we...</td>\n",
       "      <td>worldnews</td>\n",
       "      <td>August 22, 2017</td>\n",
       "      <td>1</td>\n",
       "    </tr>\n",
       "    <tr>\n",
       "      <th>21413</th>\n",
       "      <td>LexisNexis withdrew two products from Chinese ...</td>\n",
       "      <td>LONDON (Reuters) - LexisNexis, a provider of l...</td>\n",
       "      <td>worldnews</td>\n",
       "      <td>August 22, 2017</td>\n",
       "      <td>1</td>\n",
       "    </tr>\n",
       "    <tr>\n",
       "      <th>21414</th>\n",
       "      <td>Minsk cultural hub becomes haven from authorities</td>\n",
       "      <td>MINSK (Reuters) - In the shadow of disused Sov...</td>\n",
       "      <td>worldnews</td>\n",
       "      <td>August 22, 2017</td>\n",
       "      <td>1</td>\n",
       "    </tr>\n",
       "    <tr>\n",
       "      <th>21415</th>\n",
       "      <td>Vatican upbeat on possibility of Pope Francis ...</td>\n",
       "      <td>MOSCOW (Reuters) - Vatican Secretary of State ...</td>\n",
       "      <td>worldnews</td>\n",
       "      <td>August 22, 2017</td>\n",
       "      <td>1</td>\n",
       "    </tr>\n",
       "    <tr>\n",
       "      <th>21416</th>\n",
       "      <td>Indonesia to buy $1.14 billion worth of Russia...</td>\n",
       "      <td>JAKARTA (Reuters) - Indonesia will buy 11 Sukh...</td>\n",
       "      <td>worldnews</td>\n",
       "      <td>August 22, 2017</td>\n",
       "      <td>1</td>\n",
       "    </tr>\n",
       "  </tbody>\n",
       "</table>\n",
       "</div>"
      ],
      "text/plain": [
       "                                                   title  \\\n",
       "21412  'Fully committed' NATO backs new U.S. approach...   \n",
       "21413  LexisNexis withdrew two products from Chinese ...   \n",
       "21414  Minsk cultural hub becomes haven from authorities   \n",
       "21415  Vatican upbeat on possibility of Pope Francis ...   \n",
       "21416  Indonesia to buy $1.14 billion worth of Russia...   \n",
       "\n",
       "                                                    text    subject  \\\n",
       "21412  BRUSSELS (Reuters) - NATO allies on Tuesday we...  worldnews   \n",
       "21413  LONDON (Reuters) - LexisNexis, a provider of l...  worldnews   \n",
       "21414  MINSK (Reuters) - In the shadow of disused Sov...  worldnews   \n",
       "21415  MOSCOW (Reuters) - Vatican Secretary of State ...  worldnews   \n",
       "21416  JAKARTA (Reuters) - Indonesia will buy 11 Sukh...  worldnews   \n",
       "\n",
       "                   date  target  \n",
       "21412  August 22, 2017        1  \n",
       "21413  August 22, 2017        1  \n",
       "21414  August 22, 2017        1  \n",
       "21415  August 22, 2017        1  \n",
       "21416  August 22, 2017        1  "
      ]
     },
     "execution_count": 9,
     "metadata": {},
     "output_type": "execute_result"
    }
   ],
   "source": [
    "real_data.tail()"
   ]
  },
  {
   "cell_type": "code",
   "execution_count": 10,
   "id": "promising-armstrong",
   "metadata": {
    "execution": {
     "iopub.execute_input": "2021-04-10T20:11:09.777376Z",
     "iopub.status.busy": "2021-04-10T20:11:09.769566Z",
     "iopub.status.idle": "2021-04-10T20:11:09.782165Z",
     "shell.execute_reply": "2021-04-10T20:11:09.781611Z"
    },
    "papermill": {
     "duration": 0.065871,
     "end_time": "2021-04-10T20:11:09.782300",
     "exception": false,
     "start_time": "2021-04-10T20:11:09.716429",
     "status": "completed"
    },
    "tags": []
   },
   "outputs": [
    {
     "data": {
      "text/html": [
       "<div>\n",
       "<style scoped>\n",
       "    .dataframe tbody tr th:only-of-type {\n",
       "        vertical-align: middle;\n",
       "    }\n",
       "\n",
       "    .dataframe tbody tr th {\n",
       "        vertical-align: top;\n",
       "    }\n",
       "\n",
       "    .dataframe thead th {\n",
       "        text-align: right;\n",
       "    }\n",
       "</style>\n",
       "<table border=\"1\" class=\"dataframe\">\n",
       "  <thead>\n",
       "    <tr style=\"text-align: right;\">\n",
       "      <th></th>\n",
       "      <th>title</th>\n",
       "      <th>text</th>\n",
       "      <th>subject</th>\n",
       "      <th>date</th>\n",
       "      <th>target</th>\n",
       "    </tr>\n",
       "  </thead>\n",
       "  <tbody>\n",
       "    <tr>\n",
       "      <th>0</th>\n",
       "      <td>As U.S. budget fight looms, Republicans flip t...</td>\n",
       "      <td>WASHINGTON (Reuters) - The head of a conservat...</td>\n",
       "      <td>politicsNews</td>\n",
       "      <td>December 31, 2017</td>\n",
       "      <td>1</td>\n",
       "    </tr>\n",
       "    <tr>\n",
       "      <th>1</th>\n",
       "      <td>U.S. military to accept transgender recruits o...</td>\n",
       "      <td>WASHINGTON (Reuters) - Transgender people will...</td>\n",
       "      <td>politicsNews</td>\n",
       "      <td>December 29, 2017</td>\n",
       "      <td>1</td>\n",
       "    </tr>\n",
       "    <tr>\n",
       "      <th>2</th>\n",
       "      <td>Senior U.S. Republican senator: 'Let Mr. Muell...</td>\n",
       "      <td>WASHINGTON (Reuters) - The special counsel inv...</td>\n",
       "      <td>politicsNews</td>\n",
       "      <td>December 31, 2017</td>\n",
       "      <td>1</td>\n",
       "    </tr>\n",
       "    <tr>\n",
       "      <th>3</th>\n",
       "      <td>FBI Russia probe helped by Australian diplomat...</td>\n",
       "      <td>WASHINGTON (Reuters) - Trump campaign adviser ...</td>\n",
       "      <td>politicsNews</td>\n",
       "      <td>December 30, 2017</td>\n",
       "      <td>1</td>\n",
       "    </tr>\n",
       "    <tr>\n",
       "      <th>4</th>\n",
       "      <td>Trump wants Postal Service to charge 'much mor...</td>\n",
       "      <td>SEATTLE/WASHINGTON (Reuters) - President Donal...</td>\n",
       "      <td>politicsNews</td>\n",
       "      <td>December 29, 2017</td>\n",
       "      <td>1</td>\n",
       "    </tr>\n",
       "  </tbody>\n",
       "</table>\n",
       "</div>"
      ],
      "text/plain": [
       "                                               title  \\\n",
       "0  As U.S. budget fight looms, Republicans flip t...   \n",
       "1  U.S. military to accept transgender recruits o...   \n",
       "2  Senior U.S. Republican senator: 'Let Mr. Muell...   \n",
       "3  FBI Russia probe helped by Australian diplomat...   \n",
       "4  Trump wants Postal Service to charge 'much mor...   \n",
       "\n",
       "                                                text       subject  \\\n",
       "0  WASHINGTON (Reuters) - The head of a conservat...  politicsNews   \n",
       "1  WASHINGTON (Reuters) - Transgender people will...  politicsNews   \n",
       "2  WASHINGTON (Reuters) - The special counsel inv...  politicsNews   \n",
       "3  WASHINGTON (Reuters) - Trump campaign adviser ...  politicsNews   \n",
       "4  SEATTLE/WASHINGTON (Reuters) - President Donal...  politicsNews   \n",
       "\n",
       "                 date  target  \n",
       "0  December 31, 2017        1  \n",
       "1  December 29, 2017        1  \n",
       "2  December 31, 2017        1  \n",
       "3  December 30, 2017        1  \n",
       "4  December 29, 2017        1  "
      ]
     },
     "execution_count": 10,
     "metadata": {},
     "output_type": "execute_result"
    }
   ],
   "source": [
    "#Merging the 2 datasets\n",
    "data = pd.concat([real_data, fake_data], ignore_index=True, sort=False)\n",
    "data.head()"
   ]
  },
  {
   "cell_type": "code",
   "execution_count": 11,
   "id": "violent-basement",
   "metadata": {
    "execution": {
     "iopub.execute_input": "2021-04-10T20:11:09.897754Z",
     "iopub.status.busy": "2021-04-10T20:11:09.897011Z",
     "iopub.status.idle": "2021-04-10T20:11:09.904036Z",
     "shell.execute_reply": "2021-04-10T20:11:09.904491Z"
    },
    "papermill": {
     "duration": 0.077968,
     "end_time": "2021-04-10T20:11:09.904755",
     "exception": false,
     "start_time": "2021-04-10T20:11:09.826787",
     "status": "completed"
    },
    "tags": []
   },
   "outputs": [
    {
     "data": {
      "text/plain": [
       "title      0\n",
       "text       0\n",
       "subject    0\n",
       "date       0\n",
       "target     0\n",
       "dtype: int64"
      ]
     },
     "execution_count": 11,
     "metadata": {},
     "output_type": "execute_result"
    }
   ],
   "source": [
    "data.isnull().sum()"
   ]
  },
  {
   "cell_type": "markdown",
   "id": "alleged-cutting",
   "metadata": {
    "papermill": {
     "duration": 0.044378,
     "end_time": "2021-04-10T20:11:10.086125",
     "exception": false,
     "start_time": "2021-04-10T20:11:10.041747",
     "status": "completed"
    },
    "tags": []
   },
   "source": [
    "**1.Count of Fake and Real Data**"
   ]
  },
  {
   "cell_type": "code",
   "execution_count": 12,
   "id": "light-democracy",
   "metadata": {
    "execution": {
     "iopub.execute_input": "2021-04-10T20:11:10.184345Z",
     "iopub.status.busy": "2021-04-10T20:11:10.183681Z",
     "iopub.status.idle": "2021-04-10T20:11:10.591154Z",
     "shell.execute_reply": "2021-04-10T20:11:10.590495Z"
    },
    "papermill": {
     "duration": 0.460735,
     "end_time": "2021-04-10T20:11:10.591296",
     "exception": false,
     "start_time": "2021-04-10T20:11:10.130561",
     "status": "completed"
    },
    "tags": []
   },
   "outputs": [
    {
     "name": "stdout",
     "output_type": "stream",
     "text": [
      "0    23481\n",
      "1    21417\n",
      "Name: target, dtype: int64\n"
     ]
    },
    {
     "data": {
      "image/png": "[encoded data removed]",
      "text/plain": [
       "<Figure size 1900x500 with 2 Axes>"
      ]
     },
     "metadata": {},
     "output_type": "display_data"
    }
   ],
   "source": [
    "print(data[\"target\"].value_counts())\n",
    "fig, ax = plt.subplots(1,2, figsize=(19, 5))\n",
    "g1 = sns.countplot(data.target,ax=ax[0],palette=\"pastel\");\n",
    "g1.set_title(\"Count of real and fake data\")\n",
    "g1.set_ylabel(\"Count\")\n",
    "g1.set_xlabel(\"Target\")\n",
    "g2 = plt.pie(data[\"target\"].value_counts().values,explode=[0,0],labels=data.target.value_counts().index, autopct='%1.1f%%',colors=['SkyBlue','PeachPuff'])\n",
    "fig.show()"
   ]
  },
  {
   "cell_type": "markdown",
   "id": "careful-dialogue",
   "metadata": {
    "papermill": {
     "duration": 0.046411,
     "end_time": "2021-04-10T20:11:10.684160",
     "exception": false,
     "start_time": "2021-04-10T20:11:10.637749",
     "status": "completed"
    },
    "tags": []
   },
   "source": [
    "**2.Distribution of The Subject According to Real and Fake Data**"
   ]
  },
  {
   "cell_type": "code",
   "execution_count": 13,
   "id": "prime-least",
   "metadata": {
    "execution": {
     "iopub.execute_input": "2021-04-10T20:11:10.819781Z",
     "iopub.status.busy": "2021-04-10T20:11:10.799339Z",
     "iopub.status.idle": "2021-04-10T20:11:11.110099Z",
     "shell.execute_reply": "2021-04-10T20:11:11.110651Z"
    },
    "papermill": {
     "duration": 0.380753,
     "end_time": "2021-04-10T20:11:11.110823",
     "exception": false,
     "start_time": "2021-04-10T20:11:10.730070",
     "status": "completed"
    },
    "tags": []
   },
   "outputs": [
    {
     "name": "stdout",
     "output_type": "stream",
     "text": [
      "politicsNews       11272\n",
      "worldnews          10145\n",
      "News                9050\n",
      "politics            6841\n",
      "left-news           4459\n",
      "Government News     1570\n",
      "US_News              783\n",
      "Middle-east          778\n",
      "Name: subject, dtype: int64\n"
     ]
    },
    {
     "data": {
      "text/plain": [
       "Text(0.5, 1.0, 'Distribution of The Subject According to Real and Fake Data')"
      ]
     },
     "execution_count": 13,
     "metadata": {},
     "output_type": "execute_result"
    },
    {
     "data": {
      "image/png": "[encoded data removed]",
      "text/plain": [
       "<Figure size 1000x500 with 1 Axes>"
      ]
     },
     "metadata": {},
     "output_type": "display_data"
    }
   ],
   "source": [
    "print(data.subject.value_counts())\n",
    "plt.figure(figsize=(10, 5))\n",
    "\n",
    "ax = sns.countplot(x=\"subject\",  hue='target', data=data, palette=\"pastel\")\n",
    "plt.title(\"Distribution of The Subject According to Real and Fake Data\")"
   ]
  },
  {
   "cell_type": "markdown",
   "id": "current-delivery",
   "metadata": {
    "papermill": {
     "duration": 0.047514,
     "end_time": "2021-04-10T20:11:11.206280",
     "exception": false,
     "start_time": "2021-04-10T20:11:11.158766",
     "status": "completed"
    },
    "tags": []
   },
   "source": [
    "<a id = 4></a>\n",
    "<h1><font color = SlateGrey>Preprocessing the textual data</font></h1>\n",
    "<hr style=\"width:100%;height:1.2px;border-width:0;background-color:silver\">"
   ]
  },
  {
   "cell_type": "code",
   "execution_count": 14,
   "id": "sustainable-comedy",
   "metadata": {
    "execution": {
     "iopub.execute_input": "2021-04-10T20:11:11.306747Z",
     "iopub.status.busy": "2021-04-10T20:11:11.305718Z",
     "iopub.status.idle": "2021-04-10T20:11:11.518462Z",
     "shell.execute_reply": "2021-04-10T20:11:11.517820Z"
    },
    "papermill": {
     "duration": 0.26389,
     "end_time": "2021-04-10T20:11:11.518616",
     "exception": false,
     "start_time": "2021-04-10T20:11:11.254726",
     "status": "completed"
    },
    "tags": []
   },
   "outputs": [
    {
     "data": {
      "text/html": [
       "<div>\n",
       "<style scoped>\n",
       "    .dataframe tbody tr th:only-of-type {\n",
       "        vertical-align: middle;\n",
       "    }\n",
       "\n",
       "    .dataframe tbody tr th {\n",
       "        vertical-align: top;\n",
       "    }\n",
       "\n",
       "    .dataframe thead th {\n",
       "        text-align: right;\n",
       "    }\n",
       "</style>\n",
       "<table border=\"1\" class=\"dataframe\">\n",
       "  <thead>\n",
       "    <tr style=\"text-align: right;\">\n",
       "      <th></th>\n",
       "      <th>text</th>\n",
       "      <th>target</th>\n",
       "    </tr>\n",
       "  </thead>\n",
       "  <tbody>\n",
       "    <tr>\n",
       "      <th>0</th>\n",
       "      <td>politicsNews As U.S. budget fight looms, Repub...</td>\n",
       "      <td>1</td>\n",
       "    </tr>\n",
       "    <tr>\n",
       "      <th>1</th>\n",
       "      <td>politicsNews U.S. military to accept transgend...</td>\n",
       "      <td>1</td>\n",
       "    </tr>\n",
       "    <tr>\n",
       "      <th>2</th>\n",
       "      <td>politicsNews Senior U.S. Republican senator: '...</td>\n",
       "      <td>1</td>\n",
       "    </tr>\n",
       "    <tr>\n",
       "      <th>3</th>\n",
       "      <td>politicsNews FBI Russia probe helped by Austra...</td>\n",
       "      <td>1</td>\n",
       "    </tr>\n",
       "    <tr>\n",
       "      <th>4</th>\n",
       "      <td>politicsNews Trump wants Postal Service to cha...</td>\n",
       "      <td>1</td>\n",
       "    </tr>\n",
       "  </tbody>\n",
       "</table>\n",
       "</div>"
      ],
      "text/plain": [
       "                                                text  target\n",
       "0  politicsNews As U.S. budget fight looms, Repub...       1\n",
       "1  politicsNews U.S. military to accept transgend...       1\n",
       "2  politicsNews Senior U.S. Republican senator: '...       1\n",
       "3  politicsNews FBI Russia probe helped by Austra...       1\n",
       "4  politicsNews Trump wants Postal Service to cha...       1"
      ]
     },
     "execution_count": 14,
     "metadata": {},
     "output_type": "execute_result"
    }
   ],
   "source": [
    "data['text']= data['subject'] + \" \" + data['title'] + \" \" + data['text']\n",
    "del data['title']\n",
    "del data['subject']\n",
    "del data['date']\n",
    "data.head()"
   ]
  },
  {
   "cell_type": "code",
   "execution_count": 15,
   "id": "resistant-doctrine",
   "metadata": {
    "execution": {
     "iopub.execute_input": "2021-04-10T20:11:11.622515Z",
     "iopub.status.busy": "2021-04-10T20:11:11.621581Z",
     "iopub.status.idle": "2021-04-10T20:11:11.626174Z",
     "shell.execute_reply": "2021-04-10T20:11:11.625521Z"
    },
    "papermill": {
     "duration": 0.058516,
     "end_time": "2021-04-10T20:11:11.626313",
     "exception": false,
     "start_time": "2021-04-10T20:11:11.567797",
     "status": "completed"
    },
    "tags": []
   },
   "outputs": [
    {
     "data": {
      "text/plain": [
       "'politicsNews Jones certified U.S. Senate winner despite Moore challenge (Reuters) - Alabama officials on Thursday certified Democrat Doug Jones the winner of the state’s U.S. Senate race, after a state judge denied a challenge by Republican Roy Moore, whose campaign was derailed by accusations of sexual misconduct with teenage girls. Jones won the vacant seat by about 22,000 votes, or 1.6 percentage points, election officials said. That made him the first Democrat in a quarter of a century to win a Senate seat in Alabama.  The seat was previously held by Republican Jeff Sessions, who was tapped by U.S. President Donald Trump as attorney general. A state canvassing board composed of Alabama Secretary of State John Merrill, Governor Kay Ivey and Attorney General Steve Marshall certified the election results. Seating Jones will narrow the Republican majority in the Senate to 51 of 100 seats. In a statement, Jones called his victory “a new chapter” and pledged to work with both parties. Moore declined to concede defeat even after Trump urged him to do so. He stood by claims of a fraudulent election in a statement released after the certification and said he had no regrets, media outlets reported. An Alabama judge denied Moore’s request to block certification of the results of the Dec. 12 election in a decision shortly before the canvassing board met. Moore’s challenge alleged there had been potential voter fraud that denied him a chance of victory. His filing on Wednesday in the Montgomery Circuit Court sought to halt the meeting scheduled to ratify Jones’ win on Thursday. Moore could ask for a recount, in addition to possible other court challenges, Merrill said in an interview with Fox News Channel. He would have to complete paperwork “within a timed period” and show he has the money for a challenge, Merrill said. “We’ve not been notified yet of their intention to do that,” Merrill said. Regarding the claim of voter fraud, Merrill told CNN that more than 100 cases had been reported. “We’ve adjudicated more than 60 of those. We will continue to do that,” he said.  Republican lawmakers in Washington had distanced themselves from Moore and called for him to drop out of the race after several women accused him of sexual assault or misconduct dating back to when they were teenagers and he was in his early 30s.  Moore has denied wrongdoing and Reuters has not been able to independently verify the allegations. '"
      ]
     },
     "execution_count": 15,
     "metadata": {},
     "output_type": "execute_result"
    }
   ],
   "source": [
    "first_text = data.text[10]\n",
    "first_text"
   ]
  },
  {
   "cell_type": "markdown",
   "id": "baking-acrobat",
   "metadata": {
    "papermill": {
     "duration": 0.048831,
     "end_time": "2021-04-10T20:11:11.821157",
     "exception": false,
     "start_time": "2021-04-10T20:11:11.772326",
     "status": "completed"
    },
    "tags": []
   },
   "source": [
    "**First, let's remove HTML content.**"
   ]
  },
  {
   "cell_type": "code",
   "execution_count": 16,
   "id": "violent-collection",
   "metadata": {
    "execution": {
     "iopub.execute_input": "2021-04-10T20:11:22.823291Z",
     "iopub.status.busy": "2021-04-10T20:11:22.822659Z",
     "iopub.status.idle": "2021-04-10T20:11:22.998040Z",
     "shell.execute_reply": "2021-04-10T20:11:22.998532Z"
    },
    "papermill": {
     "duration": 0.235283,
     "end_time": "2021-04-10T20:11:22.998720",
     "exception": false,
     "start_time": "2021-04-10T20:11:22.763437",
     "status": "completed"
    },
    "tags": []
   },
   "outputs": [
    {
     "data": {
      "text/plain": [
       "'politicsNews Jones certified U.S. Senate winner despite Moore challenge (Reuters) - Alabama officials on Thursday certified Democrat Doug Jones the winner of the state’s U.S. Senate race, after a state judge denied a challenge by Republican Roy Moore, whose campaign was derailed by accusations of sexual misconduct with teenage girls. Jones won the vacant seat by about 22,000 votes, or 1.6 percentage points, election officials said. That made him the first Democrat in a quarter of a century to win a Senate seat in Alabama.  The seat was previously held by Republican Jeff Sessions, who was tapped by U.S. President Donald Trump as attorney general. A state canvassing board composed of Alabama Secretary of State John Merrill, Governor Kay Ivey and Attorney General Steve Marshall certified the election results. Seating Jones will narrow the Republican majority in the Senate to 51 of 100 seats. In a statement, Jones called his victory “a new chapter” and pledged to work with both parties. Moore declined to concede defeat even after Trump urged him to do so. He stood by claims of a fraudulent election in a statement released after the certification and said he had no regrets, media outlets reported. An Alabama judge denied Moore’s request to block certification of the results of the Dec. 12 election in a decision shortly before the canvassing board met. Moore’s challenge alleged there had been potential voter fraud that denied him a chance of victory. His filing on Wednesday in the Montgomery Circuit Court sought to halt the meeting scheduled to ratify Jones’ win on Thursday. Moore could ask for a recount, in addition to possible other court challenges, Merrill said in an interview with Fox News Channel. He would have to complete paperwork “within a timed period” and show he has the money for a challenge, Merrill said. “We’ve not been notified yet of their intention to do that,” Merrill said. Regarding the claim of voter fraud, Merrill told CNN that more than 100 cases had been reported. “We’ve adjudicated more than 60 of those. We will continue to do that,” he said.  Republican lawmakers in Washington had distanced themselves from Moore and called for him to drop out of the race after several women accused him of sexual assault or misconduct dating back to when they were teenagers and he was in his early 30s.  Moore has denied wrongdoing and Reuters has not been able to independently verify the allegations. '"
      ]
     },
     "execution_count": 16,
     "metadata": {},
     "output_type": "execute_result"
    }
   ],
   "source": [
    "from bs4 import BeautifulSoup\n",
    "\n",
    "soup = BeautifulSoup(first_text, \"html.parser\")\n",
    "first_text = soup.get_text()\n",
    "first_text"
   ]
  },
  {
   "cell_type": "markdown",
   "id": "inner-perfume",
   "metadata": {
    "papermill": {
     "duration": 0.053626,
     "end_time": "2021-04-10T20:11:23.216805",
     "exception": false,
     "start_time": "2021-04-10T20:11:23.163179",
     "status": "completed"
    },
    "tags": []
   },
   "source": [
    "**Let's now remove everything except uppercase / lowercase letters using Regular Expressions.**"
   ]
  },
  {
   "cell_type": "code",
   "execution_count": 17,
   "id": "checked-satisfaction",
   "metadata": {
    "execution": {
     "iopub.execute_input": "2021-04-10T20:11:23.332630Z",
     "iopub.status.busy": "2021-04-10T20:11:23.331777Z",
     "iopub.status.idle": "2021-04-10T20:11:23.335947Z",
     "shell.execute_reply": "2021-04-10T20:11:23.335302Z"
    },
    "papermill": {
     "duration": 0.065201,
     "end_time": "2021-04-10T20:11:23.336087",
     "exception": false,
     "start_time": "2021-04-10T20:11:23.270886",
     "status": "completed"
    },
    "tags": []
   },
   "outputs": [
    {
     "data": {
      "text/plain": [
       "'politicsnews jones certified u s  senate winner despite moore challenge  reuters    alabama officials on thursday certified democrat doug jones the winner of the state s u s  senate race  after a state judge denied a challenge by republican roy moore  whose campaign was derailed by accusations of sexual misconduct with teenage girls  jones won the vacant seat by about        votes  or     percentage points  election officials said  that made him the first democrat in a quarter of a century to win a senate seat in alabama   the seat was previously held by republican jeff sessions  who was tapped by u s  president donald trump as attorney general  a state canvassing board composed of alabama secretary of state john merrill  governor kay ivey and attorney general steve marshall certified the election results  seating jones will narrow the republican majority in the senate to    of     seats  in a statement  jones called his victory  a new chapter  and pledged to work with both parties  moore declined to concede defeat even after trump urged him to do so  he stood by claims of a fraudulent election in a statement released after the certification and said he had no regrets  media outlets reported  an alabama judge denied moore s request to block certification of the results of the dec     election in a decision shortly before the canvassing board met  moore s challenge alleged there had been potential voter fraud that denied him a chance of victory  his filing on wednesday in the montgomery circuit court sought to halt the meeting scheduled to ratify jones  win on thursday  moore could ask for a recount  in addition to possible other court challenges  merrill said in an interview with fox news channel  he would have to complete paperwork  within a timed period  and show he has the money for a challenge  merrill said   we ve not been notified yet of their intention to do that   merrill said  regarding the claim of voter fraud  merrill told cnn that more than     cases had been reported   we ve adjudicated more than    of those  we will continue to do that   he said   republican lawmakers in washington had distanced themselves from moore and called for him to drop out of the race after several women accused him of sexual assault or misconduct dating back to when they were teenagers and he was in his early   s   moore has denied wrongdoing and reuters has not been able to independently verify the allegations  '"
      ]
     },
     "execution_count": 17,
     "metadata": {},
     "output_type": "execute_result"
    }
   ],
   "source": [
    "first_text = re.sub('\\[[^]]*\\]', ' ', first_text)\n",
    "first_text = re.sub('[^a-zA-Z]',' ',first_text)  # replaces non-alphabets with spaces\n",
    "first_text = first_text.lower() # Converting from uppercase to lowercase\n",
    "first_text"
   ]
  },
  {
   "cell_type": "markdown",
   "id": "civilian-offer",
   "metadata": {
    "papermill": {
     "duration": 0.068638,
     "end_time": "2021-04-10T20:11:23.573216",
     "exception": false,
     "start_time": "2021-04-10T20:11:23.504578",
     "status": "completed"
    },
    "tags": []
   },
   "source": [
    "**Let's remove stopwords like is,a,the... Which do not offer much insight.**"
   ]
  },
  {
   "cell_type": "code",
   "execution_count": 18,
   "id": "lyric-depression",
   "metadata": {
    "execution": {
     "iopub.execute_input": "2021-04-10T20:11:23.712250Z",
     "iopub.status.busy": "2021-04-10T20:11:23.701081Z",
     "iopub.status.idle": "2021-04-10T20:11:23.853205Z",
     "shell.execute_reply": "2021-04-10T20:11:23.852218Z"
    },
    "papermill": {
     "duration": 0.22272,
     "end_time": "2021-04-10T20:11:23.853427",
     "exception": false,
     "start_time": "2021-04-10T20:11:23.630707",
     "status": "completed"
    },
    "tags": []
   },
   "outputs": [
    {
     "name": "stderr",
     "output_type": "stream",
     "text": [
      "[nltk_data] Downloading package stopwords to /home/djoe/nltk_data...\n",
      "[nltk_data]   Package stopwords is already up-to-date!\n"
     ]
    }
   ],
   "source": [
    "nltk.download(\"stopwords\")   \n",
    "from nltk.corpus import stopwords  \n",
    "\n",
    "# we can use tokenizer instead of split\n",
    "first_text = nltk.word_tokenize(first_text)"
   ]
  },
  {
   "cell_type": "code",
   "execution_count": 19,
   "id": "empirical-remains",
   "metadata": {
    "_kg_hide-input": false,
    "_kg_hide-output": true,
    "execution": {
     "iopub.execute_input": "2021-04-10T20:11:23.974184Z",
     "iopub.status.busy": "2021-04-10T20:11:23.973435Z",
     "iopub.status.idle": "2021-04-10T20:11:24.038866Z",
     "shell.execute_reply": "2021-04-10T20:11:24.037241Z"
    },
    "papermill": {
     "duration": 0.127752,
     "end_time": "2021-04-10T20:11:24.039039",
     "exception": false,
     "start_time": "2021-04-10T20:11:23.911287",
     "status": "completed"
    },
    "tags": []
   },
   "outputs": [],
   "source": [
    "first_text = [ word for word in first_text if not word in set(stopwords.words(\"english\"))]"
   ]
  },
  {
   "cell_type": "markdown",
   "id": "growing-anchor",
   "metadata": {
    "papermill": {
     "duration": 0.056971,
     "end_time": "2021-04-10T20:11:24.260940",
     "exception": false,
     "start_time": "2021-04-10T20:11:24.203969",
     "status": "completed"
    },
    "tags": []
   },
   "source": [
    "**Lemmatization to bring back multiple forms of same word to their common root like 'coming', 'comes' into 'come'.**"
   ]
  },
  {
   "cell_type": "code",
   "execution_count": 20,
   "id": "subject-parker",
   "metadata": {
    "_kg_hide-output": false,
    "execution": {
     "iopub.execute_input": "2021-04-10T20:11:24.376766Z",
     "iopub.status.busy": "2021-04-10T20:11:24.376067Z",
     "iopub.status.idle": "2021-04-10T20:11:26.472530Z",
     "shell.execute_reply": "2021-04-10T20:11:26.471432Z"
    },
    "papermill": {
     "duration": 2.15675,
     "end_time": "2021-04-10T20:11:26.472679",
     "exception": false,
     "start_time": "2021-04-10T20:11:24.315929",
     "status": "completed"
    },
    "tags": []
   },
   "outputs": [
    {
     "data": {
      "text/plain": [
       "'politicsnews jones certified u senate winner despite moore challenge reuters alabama official thursday certified democrat doug jones winner state u senate race state judge denied challenge republican roy moore whose campaign derailed accusation sexual misconduct teenage girl jones vacant seat vote percentage point election official said made first democrat quarter century win senate seat alabama seat previously held republican jeff session tapped u president donald trump attorney general state canvassing board composed alabama secretary state john merrill governor kay ivey attorney general steve marshall certified election result seating jones narrow republican majority senate seat statement jones called victory new chapter pledged work party moore declined concede defeat even trump urged stood claim fraudulent election statement released certification said regret medium outlet reported alabama judge denied moore request block certification result dec election decision shortly canvassing board met moore challenge alleged potential voter fraud denied chance victory filing wednesday montgomery circuit court sought halt meeting scheduled ratify jones win thursday moore could ask recount addition possible court challenge merrill said interview fox news channel would complete paperwork within timed period show money challenge merrill said notified yet intention merrill said regarding claim voter fraud merrill told cnn case reported adjudicated continue said republican lawmaker washington distanced moore called drop race several woman accused sexual assault misconduct dating back teenager early moore denied wrongdoing reuters able independently verify allegation'"
      ]
     },
     "execution_count": 20,
     "metadata": {},
     "output_type": "execute_result"
    }
   ],
   "source": [
    "lemma = nltk.WordNetLemmatizer()\n",
    "first_text = [ lemma.lemmatize(word) for word in first_text] \n",
    "\n",
    "first_text = \" \".join(first_text)\n",
    "first_text"
   ]
  },
  {
   "cell_type": "markdown",
   "id": "centered-monthly",
   "metadata": {
    "papermill": {
     "duration": 0.054931,
     "end_time": "2021-04-10T20:11:26.583248",
     "exception": false,
     "start_time": "2021-04-10T20:11:26.528317",
     "status": "completed"
    },
    "tags": []
   },
   "source": [
    "<b>Performing it for all the examples in the data.</b>"
   ]
  },
  {
   "cell_type": "code",
   "execution_count": 21,
   "id": "studied-program",
   "metadata": {
    "execution": {
     "iopub.execute_input": "2021-04-10T20:11:26.751214Z",
     "iopub.status.busy": "2021-04-10T20:11:26.742896Z",
     "iopub.status.idle": "2021-04-10T20:57:28.059464Z",
     "shell.execute_reply": "2021-04-10T20:57:28.058660Z"
    },
    "papermill": {
     "duration": 2761.420899,
     "end_time": "2021-04-10T20:57:28.059655",
     "exception": false,
     "start_time": "2021-04-10T20:11:26.638756",
     "status": "completed"
    },
    "tags": []
   },
   "outputs": [],
   "source": [
    "#Removal of HTML Contents\n",
    "def remove_html(text):\n",
    "    soup = BeautifulSoup(text, \"html.parser\")\n",
    "    return soup.get_text()\n",
    "\n",
    "#Removal of Punctuation Marks\n",
    "def remove_punctuations(text):\n",
    "    return re.sub('\\[[^]]*\\]', '', text)\n",
    "\n",
    "# Removal of Special Characters\n",
    "def remove_characters(text):\n",
    "    return re.sub(\"[^a-zA-Z]\",\" \",text)\n",
    "\n",
    "#Removal of stopwords \n",
    "def remove_stopwords_and_lemmatization(text):\n",
    "    final_text = []\n",
    "    text = text.lower()\n",
    "    text = nltk.word_tokenize(text)\n",
    "    \n",
    "    for word in text:\n",
    "        if word not in set(stopwords.words('english')):\n",
    "            lemma = nltk.WordNetLemmatizer()\n",
    "            word = lemma.lemmatize(word) \n",
    "            final_text.append(word)\n",
    "    return \" \".join(final_text)\n",
    "\n",
    "#Total function\n",
    "def cleaning(text):\n",
    "    text = remove_html(text)\n",
    "    text = remove_punctuations(text)\n",
    "    text = remove_characters(text)\n",
    "    text = remove_stopwords_and_lemmatization(text)\n",
    "    return text\n",
    "\n",
    "#Apply function on text column\n",
    "data['text']=data['text'].apply(cleaning)"
   ]
  },
  {
   "cell_type": "code",
   "execution_count": 22,
   "id": "protective-advantage",
   "metadata": {
    "execution": {
     "iopub.execute_input": "2021-04-10T20:57:28.186636Z",
     "iopub.status.busy": "2021-04-10T20:57:28.185793Z",
     "iopub.status.idle": "2021-04-10T20:57:28.188937Z",
     "shell.execute_reply": "2021-04-10T20:57:28.189445Z"
    },
    "papermill": {
     "duration": 0.07204,
     "end_time": "2021-04-10T20:57:28.189630",
     "exception": false,
     "start_time": "2021-04-10T20:57:28.117590",
     "status": "completed"
    },
    "tags": []
   },
   "outputs": [
    {
     "data": {
      "text/html": [
       "<div>\n",
       "<style scoped>\n",
       "    .dataframe tbody tr th:only-of-type {\n",
       "        vertical-align: middle;\n",
       "    }\n",
       "\n",
       "    .dataframe tbody tr th {\n",
       "        vertical-align: top;\n",
       "    }\n",
       "\n",
       "    .dataframe thead th {\n",
       "        text-align: right;\n",
       "    }\n",
       "</style>\n",
       "<table border=\"1\" class=\"dataframe\">\n",
       "  <thead>\n",
       "    <tr style=\"text-align: right;\">\n",
       "      <th></th>\n",
       "      <th>text</th>\n",
       "      <th>target</th>\n",
       "    </tr>\n",
       "  </thead>\n",
       "  <tbody>\n",
       "    <tr>\n",
       "      <th>0</th>\n",
       "      <td>politicsnews u budget fight loom republican fl...</td>\n",
       "      <td>1</td>\n",
       "    </tr>\n",
       "    <tr>\n",
       "      <th>1</th>\n",
       "      <td>politicsnews u military accept transgender rec...</td>\n",
       "      <td>1</td>\n",
       "    </tr>\n",
       "    <tr>\n",
       "      <th>2</th>\n",
       "      <td>politicsnews senior u republican senator let m...</td>\n",
       "      <td>1</td>\n",
       "    </tr>\n",
       "    <tr>\n",
       "      <th>3</th>\n",
       "      <td>politicsnews fbi russia probe helped australia...</td>\n",
       "      <td>1</td>\n",
       "    </tr>\n",
       "    <tr>\n",
       "      <th>4</th>\n",
       "      <td>politicsnews trump want postal service charge ...</td>\n",
       "      <td>1</td>\n",
       "    </tr>\n",
       "  </tbody>\n",
       "</table>\n",
       "</div>"
      ],
      "text/plain": [
       "                                                text  target\n",
       "0  politicsnews u budget fight loom republican fl...       1\n",
       "1  politicsnews u military accept transgender rec...       1\n",
       "2  politicsnews senior u republican senator let m...       1\n",
       "3  politicsnews fbi russia probe helped australia...       1\n",
       "4  politicsnews trump want postal service charge ...       1"
      ]
     },
     "execution_count": 22,
     "metadata": {},
     "output_type": "execute_result"
    }
   ],
   "source": [
    "data.head()"
   ]
  },
  {
   "cell_type": "markdown",
   "id": "interstate-marijuana",
   "metadata": {
    "papermill": {
     "duration": 0.092973,
     "end_time": "2021-04-10T21:00:21.923425",
     "exception": false,
     "start_time": "2021-04-10T21:00:21.830452",
     "status": "completed"
    },
    "tags": []
   },
   "source": [
    "<a id = 15></a>\n",
    "<h2><font color = SlateGrey>Train Test Split</font></h2>\n",
    "<hr />"
   ]
  },
  {
   "cell_type": "code",
   "execution_count": 23,
   "id": "opened-knock",
   "metadata": {
    "execution": {
     "iopub.execute_input": "2021-04-10T21:00:22.119871Z",
     "iopub.status.busy": "2021-04-10T21:00:22.119207Z",
     "iopub.status.idle": "2021-04-10T21:00:22.129157Z",
     "shell.execute_reply": "2021-04-10T21:00:22.128645Z"
    },
    "papermill": {
     "duration": 0.113232,
     "end_time": "2021-04-10T21:00:22.129295",
     "exception": false,
     "start_time": "2021-04-10T21:00:22.016063",
     "status": "completed"
    },
    "tags": []
   },
   "outputs": [],
   "source": [
    "X_train, X_test, y_train, y_test = train_test_split(data['text'], data['target'], random_state=0)"
   ]
  },
  {
   "cell_type": "markdown",
   "id": "presidential-interest",
   "metadata": {
    "papermill": {
     "duration": 0.093444,
     "end_time": "2021-04-10T21:00:22.315621",
     "exception": false,
     "start_time": "2021-04-10T21:00:22.222177",
     "status": "completed"
    },
    "tags": []
   },
   "source": [
    "<a id = 16></a>\n",
    "<h2><font color = SlateGrey>Tokenizing</font></h2>\n",
    "<hr />"
   ]
  },
  {
   "cell_type": "code",
   "execution_count": 24,
   "id": "tired-irrigation",
   "metadata": {
    "execution": {
     "iopub.execute_input": "2021-04-10T21:00:22.694369Z",
     "iopub.status.busy": "2021-04-10T21:00:22.693518Z",
     "iopub.status.idle": "2021-04-10T21:00:22.696346Z",
     "shell.execute_reply": "2021-04-10T21:00:22.695878Z"
    },
    "papermill": {
     "duration": 0.101283,
     "end_time": "2021-04-10T21:00:22.696511",
     "exception": false,
     "start_time": "2021-04-10T21:00:22.595228",
     "status": "completed"
    },
    "tags": []
   },
   "outputs": [],
   "source": [
    "max_features = 10000\n",
    "maxlen = 300"
   ]
  },
  {
   "cell_type": "code",
   "execution_count": 25,
   "id": "structured-august",
   "metadata": {
    "execution": {
     "iopub.execute_input": "2021-04-10T21:00:22.928435Z",
     "iopub.status.busy": "2021-04-10T21:00:22.923365Z",
     "iopub.status.idle": "2021-04-10T21:00:36.850804Z",
     "shell.execute_reply": "2021-04-10T21:00:36.850122Z"
    },
    "papermill": {
     "duration": 14.061135,
     "end_time": "2021-04-10T21:00:36.850977",
     "exception": false,
     "start_time": "2021-04-10T21:00:22.789842",
     "status": "completed"
    },
    "tags": []
   },
   "outputs": [],
   "source": [
    "tokenizer = text.Tokenizer(num_words=max_features)\n",
    "tokenizer.fit_on_texts(X_train)\n",
    "tokenized_train = tokenizer.texts_to_sequences(X_train)\n",
    "X_train = sequence.pad_sequences(tokenized_train, maxlen=maxlen)"
   ]
  },
  {
   "cell_type": "code",
   "execution_count": 26,
   "id": "charitable-plane",
   "metadata": {
    "execution": {
     "iopub.execute_input": "2021-04-10T21:00:37.067825Z",
     "iopub.status.busy": "2021-04-10T21:00:37.057438Z",
     "iopub.status.idle": "2021-04-10T21:00:39.312450Z",
     "shell.execute_reply": "2021-04-10T21:00:39.311938Z"
    },
    "papermill": {
     "duration": 2.367816,
     "end_time": "2021-04-10T21:00:39.312624",
     "exception": false,
     "start_time": "2021-04-10T21:00:36.944808",
     "status": "completed"
    },
    "tags": []
   },
   "outputs": [],
   "source": [
    "tokenized_test = tokenizer.texts_to_sequences(X_test)\n",
    "X_test = sequence.pad_sequences(tokenized_test, maxlen=maxlen)"
   ]
  },
  {
   "cell_type": "code",
   "execution_count": 27,
   "id": "8e3ef8ae",
   "metadata": {},
   "outputs": [
    {
     "data": {
      "text/plain": [
       "(10101900, 3367500)"
      ]
     },
     "execution_count": 27,
     "metadata": {},
     "output_type": "execute_result"
    }
   ],
   "source": [
    "X_train.size, X_test.size"
   ]
  },
  {
   "cell_type": "code",
   "execution_count": 28,
   "id": "288384b0",
   "metadata": {},
   "outputs": [
    {
     "data": {
      "text/plain": [
       "array([   0,    0,    0,    0,    0,    0,    0,    0,    0,    0,    0,\n",
       "          0,    0,    0,    0,    0,    0,    0,    0,    0,    0,    0,\n",
       "          0,    0,    0,    0,    0,    0,    0,    0,    0,    0,    0,\n",
       "          0,    0,    0,    0,    0,    0,    0,    0,    0,    0,    0,\n",
       "          0,    0,    0,    0,    0,    0,    0,    0,    0,    0,    0,\n",
       "          0,    0,    0,    0,    0,    0,    0,    0,    0,    0,    0,\n",
       "          0,    0,    0,    0,    0,    0,    0,    0,    0,    0,    0,\n",
       "          0,    0,    0,    0,    0,    0,    0,    0,    0,    0,    0,\n",
       "          0,    0,    0,    0,    0,    0,    0,    0,    0,    0,    0,\n",
       "          0,    0,    0,    0,    0,    0,    0,    0,    0,    0,    0,\n",
       "          0,    0,    0,    0,    0,    0,    0,    0,    0,    0,    0,\n",
       "          0,    0,    0,    0,    0,    0,    0,    0,    0,    0,    0,\n",
       "          0,    0,    0,    0,    0,    0,    0,    0,    0,    0,    0,\n",
       "          0,    0,    0,    0,    0,    0,    0,    0,    0,    0,    0,\n",
       "          0,    0,    0,    0,    0,    0,    0,    0,    0,    0,    0,\n",
       "          0,    0,    0,    0,    0,    0,    0,    0,    0,    0,    0,\n",
       "          0,    0,    0,    0,    0,    0,    0,    0,    0,    0,    0,\n",
       "          0,    0,    0,    0,    0,    0,    0,    0,    0,    0,    0,\n",
       "          0,    0,    0,    0,    0,    0,    0,    0,    0,    0,    0,\n",
       "          0,    0,    0,    0,    0,    0,    0,    0,  133,  192,    1,\n",
       "        612, 1520, 1575, 1477,   17, 4359,  873, 3351,    1,   17, 1520,\n",
       "       1575, 1477, 2439,  343,  583, 1205,  182, 3466,  207,   15, 1355,\n",
       "        274, 2766, 2626, 2369, 2866,  149,    3,   99, 1515, 2977,  932,\n",
       "          2,  689, 1754,  153, 4468,  529, 2701, 1477,    2,  207,  308,\n",
       "       1845,  321,  666,   17, 6085, 1477,   32,   11, 9895, 5786,  873,\n",
       "          1,   95,    2, 1675, 3271, 1037, 3466,  211,  432,  503,   45,\n",
       "          7, 3805,  240, 2436,  493,  868,  240, 5870,    2,  147, 2766,\n",
       "          2,  859,  619], dtype=int32)"
      ]
     },
     "execution_count": 28,
     "metadata": {},
     "output_type": "execute_result"
    }
   ],
   "source": [
    "X_train[3363]"
   ]
  },
  {
   "cell_type": "markdown",
   "id": "df888c4f",
   "metadata": {},
   "source": [
    "<a id = 16></a>\n",
    "<h2><font color = SlateGrey>Training Model</font></h2>\n",
    "<hr />"
   ]
  },
  {
   "cell_type": "code",
   "execution_count": 29,
   "id": "78e7a413",
   "metadata": {},
   "outputs": [],
   "source": [
    "batch_size = 256\n",
    "epochs = 10\n",
    "embed_size = 100"
   ]
  },
  {
   "cell_type": "code",
   "execution_count": 30,
   "id": "a04e74c6",
   "metadata": {},
   "outputs": [
    {
     "name": "stderr",
     "output_type": "stream",
     "text": [
      "2023-10-15 16:43:16.811302: I tensorflow/compiler/xla/stream_executor/cuda/cuda_diagnostics.cc:168] retrieving CUDA diagnostic information for host: djoe\n",
      "2023-10-15 16:43:16.811325: I tensorflow/compiler/xla/stream_executor/cuda/cuda_diagnostics.cc:175] hostname: djoe\n",
      "2023-10-15 16:43:16.811421: I tensorflow/compiler/xla/stream_executor/cuda/cuda_diagnostics.cc:199] libcuda reported version is: NOT_FOUND: was unable to find libcuda.so DSO loaded into this program\n",
      "2023-10-15 16:43:16.811449: I tensorflow/compiler/xla/stream_executor/cuda/cuda_diagnostics.cc:203] kernel reported version is: 525.105.17\n",
      "WARNING:absl:`lr` is deprecated in Keras optimizer, please use `learning_rate` or use the legacy optimizer, e.g.,tf.keras.optimizers.legacy.Adam.\n"
     ]
    }
   ],
   "source": [
    "model = Sequential()\n",
    "#Non-trainable embeddidng layer\n",
    "model.add(Embedding(max_features, output_dim=embed_size, input_length=maxlen, trainable=False))\n",
    "#LSTM \n",
    "model.add(LSTM(units=128 , return_sequences = True , recurrent_dropout = 0.25 , dropout = 0.25))\n",
    "model.add(LSTM(units=64 , recurrent_dropout = 0.1 , dropout = 0.1))\n",
    "model.add(Dense(units = 32 , activation = 'relu'))\n",
    "model.add(Dense(1, activation='sigmoid'))\n",
    "model.compile(optimizer=keras.optimizers.Adam(lr = 0.01), loss='binary_crossentropy', metrics=['accuracy'])"
   ]
  },
  {
   "cell_type": "code",
   "execution_count": 31,
   "id": "f4994dc1",
   "metadata": {},
   "outputs": [
    {
     "name": "stdout",
     "output_type": "stream",
     "text": [
      "Model: \"sequential\"\n",
      "_________________________________________________________________\n",
      " Layer (type)                Output Shape              Param #   \n",
      "=================================================================\n",
      " embedding (Embedding)       (None, 300, 100)          1000000   \n",
      "                                                                 \n",
      " lstm (LSTM)                 (None, 300, 128)          117248    \n",
      "                                                                 \n",
      " lstm_1 (LSTM)               (None, 64)                49408     \n",
      "                                                                 \n",
      " dense (Dense)               (None, 32)                2080      \n",
      "                                                                 \n",
      " dense_1 (Dense)             (None, 1)                 33        \n",
      "                                                                 \n",
      "=================================================================\n",
      "Total params: 1168769 (4.46 MB)\n",
      "Trainable params: 168769 (659.25 KB)\n",
      "Non-trainable params: 1000000 (3.81 MB)\n",
      "_________________________________________________________________\n"
     ]
    }
   ],
   "source": [
    "model.summary()"
   ]
  },
  {
   "cell_type": "code",
   "execution_count": 32,
   "id": "a24492b9",
   "metadata": {},
   "outputs": [
    {
     "name": "stdout",
     "output_type": "stream",
     "text": [
      "Epoch 1/10\n",
      "93/93 [==============================] - 91s 935ms/step - loss: 0.5028 - accuracy: 0.7535 - val_loss: 0.4817 - val_accuracy: 0.8149\n",
      "Epoch 2/10\n",
      "93/93 [==============================] - 86s 929ms/step - loss: 0.6644 - accuracy: 0.6189 - val_loss: 0.5567 - val_accuracy: 0.6679\n",
      "Epoch 3/10\n",
      "93/93 [==============================] - 87s 932ms/step - loss: 0.4758 - accuracy: 0.7617 - val_loss: 1.5183 - val_accuracy: 0.6048\n",
      "Epoch 4/10\n",
      "93/93 [==============================] - 87s 937ms/step - loss: 0.5428 - accuracy: 0.7181 - val_loss: 0.6267 - val_accuracy: 0.7598\n",
      "Epoch 5/10\n",
      "93/93 [==============================] - 80s 865ms/step - loss: 0.6954 - accuracy: 0.5232 - val_loss: 0.6920 - val_accuracy: 0.5202\n",
      "Epoch 6/10\n",
      "93/93 [==============================] - 81s 871ms/step - loss: 0.6916 - accuracy: 0.5247 - val_loss: 0.6916 - val_accuracy: 0.5202\n",
      "Epoch 7/10\n",
      "93/93 [==============================] - 80s 860ms/step - loss: 0.6907 - accuracy: 0.5223 - val_loss: 0.6935 - val_accuracy: 0.4798\n",
      "Epoch 8/10\n",
      "93/93 [==============================] - 83s 898ms/step - loss: 0.6910 - accuracy: 0.5245 - val_loss: 0.6910 - val_accuracy: 0.5202\n",
      "Epoch 9/10\n",
      "93/93 [==============================] - 87s 939ms/step - loss: 0.6769 - accuracy: 0.5618 - val_loss: 0.7113 - val_accuracy: 0.5202\n",
      "Epoch 10/10\n",
      "93/93 [==============================] - 87s 941ms/step - loss: 0.5692 - accuracy: 0.6793 - val_loss: 0.4762 - val_accuracy: 0.7544\n"
     ]
    }
   ],
   "source": [
    "history = model.fit(X_train, y_train, validation_split=0.3, epochs=10, batch_size=batch_size, shuffle=True, verbose = 1)"
   ]
  },
  {
   "cell_type": "markdown",
   "id": "243d8412",
   "metadata": {},
   "source": [
    "<a id = 16></a>\n",
    "<h2><font color = SlateGrey>Analyzing model</font></h2>\n",
    "<hr />"
   ]
  },
  {
   "cell_type": "code",
   "execution_count": 33,
   "id": "b5cdcabd",
   "metadata": {},
   "outputs": [
    {
     "name": "stdout",
     "output_type": "stream",
     "text": [
      "1053/1053 [==============================] - 48s 46ms/step - loss: 0.4732 - accuracy: 0.7583\n",
      "Accuracy of the model on Training Data is -  75.82632899284363 %\n",
      "351/351 [==============================] - 16s 45ms/step - loss: 0.4738 - accuracy: 0.7601\n",
      "Accuracy of the model on Testing Data is -  76.0089099407196 %\n"
     ]
    }
   ],
   "source": [
    "print(\"Accuracy of the model on Training Data is - \" , model.evaluate(X_train,y_train)[1]*100 , \"%\")\n",
    "print(\"Accuracy of the model on Testing Data is - \" , model.evaluate(X_test,y_test)[1]*100 , \"%\")"
   ]
  },
  {
   "cell_type": "code",
   "execution_count": 34,
   "id": "d4dc428d",
   "metadata": {},
   "outputs": [
    {
     "data": {
      "image/png": "[encoded data removed]",
      "text/plain": [
       "<Figure size 640x480 with 1 Axes>"
      ]
     },
     "metadata": {},
     "output_type": "display_data"
    }
   ],
   "source": [
    "plt.figure()\n",
    "plt.plot(history.history[\"accuracy\"], label = \"Train\")\n",
    "plt.plot(history.history[\"val_accuracy\"], label = \"Test\")\n",
    "plt.title(\"Accuracy\")\n",
    "plt.ylabel(\"Acc\")\n",
    "plt.xlabel(\"epochs\")\n",
    "plt.legend()\n",
    "plt.show()"
   ]
  },
  {
   "cell_type": "code",
   "execution_count": 35,
   "id": "f6737c66",
   "metadata": {},
   "outputs": [
    {
     "data": {
      "image/png": "[encoded data removed]",
      "text/plain": [
       "<Figure size 640x480 with 1 Axes>"
      ]
     },
     "metadata": {},
     "output_type": "display_data"
    }
   ],
   "source": [
    "plt.figure()\n",
    "plt.plot(history.history[\"loss\"], label = \"Train\")\n",
    "plt.plot(history.history[\"val_loss\"], label = \"Test\")\n",
    "plt.title(\"Loss\")\n",
    "plt.ylabel(\"Acc\")\n",
    "plt.xlabel(\"epochs\")\n",
    "plt.legend()\n",
    "plt.show()\n"
   ]
  },
  {
   "cell_type": "code",
   "execution_count": 50,
   "id": "5f3bba58",
   "metadata": {},
   "outputs": [
    {
     "name": "stdout",
     "output_type": "stream",
     "text": [
      "351/351 [==============================] - 14s 40ms/step\n"
     ]
    },
    {
     "data": {
      "text/plain": [
       "array([[0.40189645],\n",
       "       [0.00880686],\n",
       "       [0.00962298],\n",
       "       ...,\n",
       "       [0.01128194],\n",
       "       [0.72117466],\n",
       "       [0.7350749 ]], dtype=float32)"
      ]
     },
     "execution_count": 50,
     "metadata": {},
     "output_type": "execute_result"
    }
   ],
   "source": [
    "model.predict(X_test)"
   ]
  },
  {
   "cell_type": "code",
   "execution_count": null,
   "id": "8eacac6f",
   "metadata": {},
   "outputs": [],
   "source": []
  }
 ],
 "metadata": {
  "kernelspec": {
   "display_name": "Python 3 (ipykernel)",
   "language": "python",
   "name": "python3"
  },
  "language_info": {
   "codemirror_mode": {
    "name": "ipython",
    "version": 3
   },
   "file_extension": ".py",
   "mimetype": "text/x-python",
   "name": "python",
   "nbconvert_exporter": "python",
   "pygments_lexer": "ipython3",
   "version": "3.10.9"
  },
  "papermill": {
   "default_parameters": {},
   "duration": 5835.092659,
   "end_time": "2021-04-10T21:48:06.969076",
   "environment_variables": {},
   "exception": null,
   "input_path": "__notebook__.ipynb",
   "output_path": "__notebook__.ipynb",
   "parameters": {},
   "start_time": "2021-04-10T20:10:51.876417",
   "version": "2.3.2"
  }
 },
 "nbformat": 4,
 "nbformat_minor": 5
}
